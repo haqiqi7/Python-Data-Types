{
  "nbformat": 4,
  "nbformat_minor": 0,
  "metadata": {
    "colab": {
      "name": "Python Data Type.ipynb",
      "provenance": [],
      "collapsed_sections": [
        "ALPKSTwpBa02"
      ]
    },
    "kernelspec": {
      "name": "python3",
      "display_name": "Python 3"
    },
    "language_info": {
      "name": "python"
    }
  },
  "cells": [
    {
      "cell_type": "markdown",
      "source": [
        "#**Built-in Data Types in Python**\n",
        "\n",
        "Python Collections are used to store data, for example, lists, sets, and tuples, all of which are built-in collections.\n",
        "\n"
      ],
      "metadata": {
        "id": "2dQV-geQvV6d"
      }
    },
    {
      "cell_type": "markdown",
      "source": [
        "### **MEMBER OF SINTAKS GROUP :**\n",
        "1. Hasballah Askar\n",
        "2. Galang Setia Nugroho\n",
        "3. Khalishah Fiddina\n",
        "4. Tifani Amalina\n",
        "5. Muhammad Ilham Hakiqi"
      ],
      "metadata": {
        "id": "3Q3eeozlvccZ"
      }
    },
    {
      "cell_type": "markdown",
      "source": [
        "# **1. Lists**\n",
        "\n",
        "A list is basically like a dynamically sized array that gets declared in other languages (Arraylist in the case of Java, vector in the case of C++). The lists don’t always need to be homogeneous in nature. Declaring a list is easy enough with square brackets [ ] and comma-separated elements."
      ],
      "metadata": {
        "id": "7FpNHSaEviaP"
      }
    },
    {
      "cell_type": "code",
      "execution_count": null,
      "metadata": {
        "colab": {
          "base_uri": "https://localhost:8080/"
        },
        "id": "lHUcV1eZvTQO",
        "outputId": "1cad7671-25c0-4982-f98f-8cfd8e445306"
      },
      "outputs": [
        {
          "output_type": "stream",
          "name": "stdout",
          "text": [
            "['January', 'Month', 1]\n"
          ]
        }
      ],
      "source": [
        "list = [\"January\",\"Month\",1]\n",
        "print(list)"
      ]
    },
    {
      "cell_type": "code",
      "source": [
        "# if you want to know the element in a python index, you can use formula \"argument[x]\"\n",
        "#x -> posisition index python\n",
        "\n",
        "list[1]"
      ],
      "metadata": {
        "colab": {
          "base_uri": "https://localhost:8080/",
          "height": 35
        },
        "id": "4oBfTZdkwI5W",
        "outputId": "968eb111-adc6-4709-af82-5cd3f0baa08d"
      },
      "execution_count": null,
      "outputs": [
        {
          "output_type": "execute_result",
          "data": {
            "text/plain": [
              "'Month'"
            ],
            "application/vnd.google.colaboratory.intrinsic+json": {
              "type": "string"
            }
          },
          "metadata": {},
          "execution_count": 2
        }
      ]
    },
    {
      "cell_type": "code",
      "source": [
        "# if you want to find out the elements in python index starting at the back of a list, you can use the formula \"argument[-x]\"\n",
        "#x -> position index python\n",
        "\n",
        "list[-1]"
      ],
      "metadata": {
        "colab": {
          "base_uri": "https://localhost:8080/"
        },
        "id": "vQiU009Lw7t2",
        "outputId": "080284e8-acd9-410b-cef7-82895e03088d"
      },
      "execution_count": null,
      "outputs": [
        {
          "output_type": "execute_result",
          "data": {
            "text/plain": [
              "1"
            ]
          },
          "metadata": {},
          "execution_count": 3
        }
      ]
    },
    {
      "cell_type": "code",
      "source": [
        "list = [\"January\",\"Month\",1,\"Days\",7,10.5]\n",
        "print(list)"
      ],
      "metadata": {
        "colab": {
          "base_uri": "https://localhost:8080/"
        },
        "id": "PLAQg4l9xofx",
        "outputId": "e60a3bd9-1576-44e6-afac-210c2110dd8d"
      },
      "execution_count": null,
      "outputs": [
        {
          "output_type": "stream",
          "name": "stdout",
          "text": [
            "['January', 'Month', 1, 'Days', 7, 10.5]\n"
          ]
        }
      ]
    },
    {
      "cell_type": "code",
      "source": [
        "#if you want to know an element in python index range, you can use the formula \"argument[i(1):i(2)]\"\n",
        "#i(1) -> starting index postion ; i(2) -> ending index position\n",
        "\n",
        "list[0:3]"
      ],
      "metadata": {
        "colab": {
          "base_uri": "https://localhost:8080/"
        },
        "id": "OxGoh7hXx5dp",
        "outputId": "ebc88d82-4df9-45a0-ed02-cd7a162821e7"
      },
      "execution_count": null,
      "outputs": [
        {
          "output_type": "execute_result",
          "data": {
            "text/plain": [
              "['January', 'Month', 1]"
            ]
          },
          "metadata": {},
          "execution_count": 5
        }
      ]
    },
    {
      "cell_type": "code",
      "source": [
        "#if you want know how much total element of a list, you can use the formula \"len(argument)\"\n",
        "\n",
        "len(list)"
      ],
      "metadata": {
        "colab": {
          "base_uri": "https://localhost:8080/"
        },
        "id": "SwNZsorRy-3A",
        "outputId": "fd04f664-9855-4d19-85ce-343c8a8bfa3c"
      },
      "execution_count": null,
      "outputs": [
        {
          "output_type": "execute_result",
          "data": {
            "text/plain": [
              "6"
            ]
          },
          "metadata": {},
          "execution_count": 6
        }
      ]
    },
    {
      "cell_type": "code",
      "source": [
        "print(list)"
      ],
      "metadata": {
        "colab": {
          "base_uri": "https://localhost:8080/"
        },
        "id": "2uCHBQA_1Xrw",
        "outputId": "037a4bac-90bc-4dd0-f30a-91645d3acbdf"
      },
      "execution_count": null,
      "outputs": [
        {
          "output_type": "stream",
          "name": "stdout",
          "text": [
            "['January', 'Month', 1, 'Days', 7, 10.5]\n"
          ]
        }
      ]
    },
    {
      "cell_type": "code",
      "source": [
        "#if you want to remove an element at a certain index, you can use formula \"del[x]\"\n",
        "#x -> posisition index\n",
        "\n",
        "del list[4]"
      ],
      "metadata": {
        "id": "8qUjNzkozYjS"
      },
      "execution_count": null,
      "outputs": []
    },
    {
      "cell_type": "code",
      "source": [
        "print(list)"
      ],
      "metadata": {
        "colab": {
          "base_uri": "https://localhost:8080/"
        },
        "id": "GDqnzum70EjT",
        "outputId": "f83f0633-523e-4d07-ff17-6ee65c147d05"
      },
      "execution_count": null,
      "outputs": [
        {
          "output_type": "stream",
          "name": "stdout",
          "text": [
            "['January', 'Month', 1, 'Days', 10.5]\n"
          ]
        }
      ]
    },
    {
      "cell_type": "code",
      "source": [
        "#if you want to change element in the certain index, you can use formula \"argument[i]=x\"\n",
        "#i -> index position ; x-> new element\n",
        "\n",
        "list[4]=30\n",
        "print(list)"
      ],
      "metadata": {
        "colab": {
          "base_uri": "https://localhost:8080/"
        },
        "id": "CyKr-9gT1n7c",
        "outputId": "4f7ac703-f953-4c37-839d-105f9d841324"
      },
      "execution_count": null,
      "outputs": [
        {
          "output_type": "stream",
          "name": "stdout",
          "text": [
            "['January', 'Month', 1, 'Days', 30]\n"
          ]
        }
      ]
    },
    {
      "cell_type": "code",
      "source": [
        "#if you want to add an element to the end of list, use the formula \"append()\"\n",
        "\n",
        "list.append(\"year\")\n",
        "print(list)"
      ],
      "metadata": {
        "colab": {
          "base_uri": "https://localhost:8080/"
        },
        "id": "BrhIJUB92KaG",
        "outputId": "f42f451b-d58a-4584-bd72-0836d785378c"
      },
      "execution_count": null,
      "outputs": [
        {
          "output_type": "stream",
          "name": "stdout",
          "text": [
            "['January', 'Month', 1, 'Days', 30, 'year']\n"
          ]
        }
      ]
    },
    {
      "cell_type": "code",
      "source": [
        "#if you want to add a new list, use the formula \"extend(list)\"\n",
        "\n",
        "list.extend([\"days\",\"week\",7])\n",
        "print(list)"
      ],
      "metadata": {
        "colab": {
          "base_uri": "https://localhost:8080/"
        },
        "id": "PNIoUFAd26c-",
        "outputId": "7bf5154b-a45a-455f-e5eb-8499e50ad0fb"
      },
      "execution_count": null,
      "outputs": [
        {
          "output_type": "stream",
          "name": "stdout",
          "text": [
            "['January', 'Month', 1, 'Days', 30, 'year', 'days', 'week', 7]\n"
          ]
        }
      ]
    },
    {
      "cell_type": "code",
      "source": [
        "#if you want to add an element to the certain position, use formula \"insert(i,x)\"\n",
        "# i -> index position ; x -> newvalue/element\n",
        "\n",
        "list.insert(4,\"and\")\n",
        "print(list)"
      ],
      "metadata": {
        "colab": {
          "base_uri": "https://localhost:8080/"
        },
        "id": "sKEP-O422_0U",
        "outputId": "bbeba651-df44-4176-e8e5-17a4f6470e17"
      },
      "execution_count": null,
      "outputs": [
        {
          "output_type": "stream",
          "name": "stdout",
          "text": [
            "['January', 'Month', 1, 'Days', 'and', 30, 'year', 'days', 'week', 7]\n"
          ]
        }
      ]
    },
    {
      "cell_type": "code",
      "source": [
        "#if you want to remove element of list, you can use formula \"remove()\".\n",
        "#In addition, \"remove\" can also be used to remove the first element in a duplicate data\n",
        "\n",
        "list.remove(\"and\")\n",
        "print(list)"
      ],
      "metadata": {
        "colab": {
          "base_uri": "https://localhost:8080/"
        },
        "id": "handpwWi3DlX",
        "outputId": "2eb00f49-5691-40f1-f87f-4472164696bc"
      },
      "execution_count": null,
      "outputs": [
        {
          "output_type": "stream",
          "name": "stdout",
          "text": [
            "['January', 'Month', 1, 'Days', 30, 'year', 'days', 'week', 7]\n"
          ]
        }
      ]
    },
    {
      "cell_type": "code",
      "source": [
        "#if you just want to remove an element to the end of list, you can use formula \"pop()\"\n",
        "\n",
        "list.pop()\n",
        "print(list)"
      ],
      "metadata": {
        "colab": {
          "base_uri": "https://localhost:8080/"
        },
        "id": "aqJs8ta93HMA",
        "outputId": "d6bed061-26f0-4ef7-cb6a-6042883109c2"
      },
      "execution_count": null,
      "outputs": [
        {
          "output_type": "stream",
          "name": "stdout",
          "text": [
            "['January', 'Month', 1, 'Days', 30, 'year', 'days', 'week']\n"
          ]
        }
      ]
    },
    {
      "cell_type": "code",
      "source": [
        "#if you want to know the position of the python index on an element of a list, use the formula \"index(x)\"\n",
        "#x -> element\n",
        "\n",
        "list.index(\"Month\")"
      ],
      "metadata": {
        "colab": {
          "base_uri": "https://localhost:8080/"
        },
        "id": "BOHfzWxN3KuC",
        "outputId": "e5838da4-a693-4273-bb34-e970d0fc9fa5"
      },
      "execution_count": null,
      "outputs": [
        {
          "output_type": "execute_result",
          "data": {
            "text/plain": [
              "1"
            ]
          },
          "metadata": {},
          "execution_count": 16
        }
      ]
    },
    {
      "cell_type": "code",
      "source": [
        "list.insert(3,\"year\")\n",
        "print(list)"
      ],
      "metadata": {
        "colab": {
          "base_uri": "https://localhost:8080/"
        },
        "id": "hhmMbhpA3O0Z",
        "outputId": "3a1ae783-0e51-4226-a5e1-a91bc35e71bd"
      },
      "execution_count": null,
      "outputs": [
        {
          "output_type": "stream",
          "name": "stdout",
          "text": [
            "['January', 'Month', 1, 'year', 'Days', 30, 'year', 'days', 'week']\n"
          ]
        }
      ]
    },
    {
      "cell_type": "code",
      "source": [
        "#To count the number of elements that appear in a list, use the formula \"count(x)\"\n",
        "\n",
        "list.count(\"year\")"
      ],
      "metadata": {
        "colab": {
          "base_uri": "https://localhost:8080/"
        },
        "id": "OajHrkOG3S1C",
        "outputId": "fd4c82b3-390f-441e-d4fb-ce70db05ce42"
      },
      "execution_count": null,
      "outputs": [
        {
          "output_type": "execute_result",
          "data": {
            "text/plain": [
              "2"
            ]
          },
          "metadata": {},
          "execution_count": 18
        }
      ]
    },
    {
      "cell_type": "code",
      "source": [
        "a = [900,700,100,200,1000,350]\n",
        "print(a)"
      ],
      "metadata": {
        "colab": {
          "base_uri": "https://localhost:8080/"
        },
        "id": "KeVUE5j63Ye_",
        "outputId": "8df4bf58-9df4-4373-ca85-e60d42fb0fb1"
      },
      "execution_count": null,
      "outputs": [
        {
          "output_type": "stream",
          "name": "stdout",
          "text": [
            "[900, 700, 100, 200, 1000, 350]\n"
          ]
        }
      ]
    },
    {
      "cell_type": "code",
      "source": [
        "#if you want to sort an element of a list, use formula \"sort()\"\n",
        "#Then the elements of the list will be sorted in ascending order\n",
        "\n",
        "a.sort()\n",
        "print(a)"
      ],
      "metadata": {
        "colab": {
          "base_uri": "https://localhost:8080/"
        },
        "id": "liK5irqV3coW",
        "outputId": "4b2b3921-9e51-4028-83d4-cf234b150fe6"
      },
      "execution_count": null,
      "outputs": [
        {
          "output_type": "stream",
          "name": "stdout",
          "text": [
            "[100, 200, 350, 700, 900, 1000]\n"
          ]
        }
      ]
    },
    {
      "cell_type": "code",
      "source": [
        "#but if you want to sort in descending order, you can use the formula \"reverse\"\n",
        "\n",
        "a.reverse()\n",
        "print(a)"
      ],
      "metadata": {
        "colab": {
          "base_uri": "https://localhost:8080/"
        },
        "id": "8v6a6qOW3gxd",
        "outputId": "58285075-335b-4705-d345-6cb58896a031"
      },
      "execution_count": null,
      "outputs": [
        {
          "output_type": "stream",
          "name": "stdout",
          "text": [
            "[1000, 900, 700, 350, 200, 100]\n"
          ]
        }
      ]
    },
    {
      "cell_type": "markdown",
      "source": [
        "***Before we move on to point 2, I want to give a little information about the use of slicing on the string***\n",
        "\n",
        "Slicing is taking characters at a certain index from a string. a string can be changed if it is mutable (intact), but reverse if it is immutable it will error.\n",
        "\n",
        "for example:"
      ],
      "metadata": {
        "id": "00D8wqK33p-B"
      }
    },
    {
      "cell_type": "code",
      "source": [
        "name = \"Syntax Group\""
      ],
      "metadata": {
        "id": "0Bo89HIk57N8"
      },
      "execution_count": null,
      "outputs": []
    },
    {
      "cell_type": "code",
      "source": [
        "#if you want take element to certain index positition\n",
        "\n",
        "print(name[0])"
      ],
      "metadata": {
        "colab": {
          "base_uri": "https://localhost:8080/"
        },
        "id": "9jA3rnlK6Qdz",
        "outputId": "076ad2b9-6e0e-497a-8da9-8c059074f8fd"
      },
      "execution_count": null,
      "outputs": [
        {
          "output_type": "stream",
          "name": "stdout",
          "text": [
            "S\n"
          ]
        }
      ]
    },
    {
      "cell_type": "code",
      "source": [
        "#if you want take element to certain index range\n",
        "\n",
        "print(name[7:13])"
      ],
      "metadata": {
        "colab": {
          "base_uri": "https://localhost:8080/"
        },
        "id": "fdbVCSVX6hlp",
        "outputId": "07641c35-985b-4090-f2b9-9aa57c24e429"
      },
      "execution_count": null,
      "outputs": [
        {
          "output_type": "stream",
          "name": "stdout",
          "text": [
            "Group\n"
          ]
        }
      ]
    },
    {
      "cell_type": "code",
      "source": [
        "#but, there will be an error if you take an element not completely\n",
        "#for example:\n",
        "\n",
        "name[3]=\"s\""
      ],
      "metadata": {
        "colab": {
          "base_uri": "https://localhost:8080/",
          "height": 200
        },
        "id": "vhobBmnq7I_R",
        "outputId": "1f23054a-f884-48a3-89b3-d0962d4ccaf6"
      },
      "execution_count": null,
      "outputs": [
        {
          "output_type": "error",
          "ename": "TypeError",
          "evalue": "ignored",
          "traceback": [
            "\u001b[0;31m---------------------------------------------------------------------------\u001b[0m",
            "\u001b[0;31mTypeError\u001b[0m                                 Traceback (most recent call last)",
            "\u001b[0;32m<ipython-input-30-638031f8ceb0>\u001b[0m in \u001b[0;36m<module>\u001b[0;34m()\u001b[0m\n\u001b[1;32m      2\u001b[0m \u001b[0;31m#for example:\u001b[0m\u001b[0;34m\u001b[0m\u001b[0;34m\u001b[0m\u001b[0;34m\u001b[0m\u001b[0m\n\u001b[1;32m      3\u001b[0m \u001b[0;34m\u001b[0m\u001b[0m\n\u001b[0;32m----> 4\u001b[0;31m \u001b[0mname\u001b[0m\u001b[0;34m[\u001b[0m\u001b[0;36m3\u001b[0m\u001b[0;34m]\u001b[0m\u001b[0;34m=\u001b[0m\u001b[0;34m\"s\"\u001b[0m\u001b[0;34m\u001b[0m\u001b[0;34m\u001b[0m\u001b[0m\n\u001b[0m",
            "\u001b[0;31mTypeError\u001b[0m: 'str' object does not support item assignment"
          ]
        }
      ]
    },
    {
      "cell_type": "markdown",
      "source": [
        "# **2. Tuple**\n",
        "\n",
        "A tuple refers to a collection of Python objects separated by commas between them and defined by parentheses ().In some ways, the tuples are similar to the lists in terms of repetition, nested objects, and indexing. The difference is that a tuple, unlike a list, is immutable. The lists, are mutable. "
      ],
      "metadata": {
        "id": "sTDfFyeS73U_"
      }
    },
    {
      "cell_type": "code",
      "source": [
        "S = (2022,\"Data Scientist\",\"Syntax\", 5.6)\n",
        "print(S)"
      ],
      "metadata": {
        "colab": {
          "base_uri": "https://localhost:8080/"
        },
        "id": "vzi0GqLu70sR",
        "outputId": "5ec4a0c0-1fa1-4d64-fb6d-708f1255ad4c"
      },
      "execution_count": null,
      "outputs": [
        {
          "output_type": "stream",
          "name": "stdout",
          "text": [
            "(2022, 'Data Scientist', 'Syntax', 5.6)\n"
          ]
        }
      ]
    },
    {
      "cell_type": "code",
      "source": [
        "#if you want to know value to certain index position, you can use formula \"print(argument[x])\"\n",
        "# X -> index \n",
        "\n",
        "print(S[3])"
      ],
      "metadata": {
        "colab": {
          "base_uri": "https://localhost:8080/"
        },
        "id": "Id-n37Qx-1CI",
        "outputId": "7577c5e2-cc34-4da6-bf6f-e95e75ad3e59"
      },
      "execution_count": null,
      "outputs": [
        {
          "output_type": "stream",
          "name": "stdout",
          "text": [
            "5.6\n"
          ]
        }
      ]
    },
    {
      "cell_type": "code",
      "source": [
        "#an error will occur if a value changes of a tuple, because tuples are immutable.\n",
        "#for example:\n",
        "\n",
        "S[3]=9"
      ],
      "metadata": {
        "colab": {
          "base_uri": "https://localhost:8080/",
          "height": 200
        },
        "id": "qsNpfoWWEo2E",
        "outputId": "cb5bd0e0-c521-4aa7-cfc3-5ff5436adff1"
      },
      "execution_count": null,
      "outputs": [
        {
          "output_type": "error",
          "ename": "TypeError",
          "evalue": "ignored",
          "traceback": [
            "\u001b[0;31m---------------------------------------------------------------------------\u001b[0m",
            "\u001b[0;31mTypeError\u001b[0m                                 Traceback (most recent call last)",
            "\u001b[0;32m<ipython-input-34-72f115c8b109>\u001b[0m in \u001b[0;36m<module>\u001b[0;34m()\u001b[0m\n\u001b[1;32m      2\u001b[0m \u001b[0;31m#for example:\u001b[0m\u001b[0;34m\u001b[0m\u001b[0;34m\u001b[0m\u001b[0;34m\u001b[0m\u001b[0m\n\u001b[1;32m      3\u001b[0m \u001b[0;34m\u001b[0m\u001b[0m\n\u001b[0;32m----> 4\u001b[0;31m \u001b[0mS\u001b[0m\u001b[0;34m[\u001b[0m\u001b[0;36m3\u001b[0m\u001b[0;34m]\u001b[0m\u001b[0;34m=\u001b[0m\u001b[0;36m9\u001b[0m\u001b[0;34m\u001b[0m\u001b[0;34m\u001b[0m\u001b[0m\n\u001b[0m",
            "\u001b[0;31mTypeError\u001b[0m: 'tuple' object does not support item assignment"
          ]
        }
      ]
    },
    {
      "cell_type": "markdown",
      "source": [
        "# **3. Set**\n",
        "\n",
        "Set is a collection of items that are unique and without order (Unordered collection). These are mutable, iterable, and do not consist of any duplicate elements. The set class in Python represents the set’s mathematical notion. Defined using {} and separated by commas."
      ],
      "metadata": {
        "id": "N5CJmOghGH3h"
      }
    },
    {
      "cell_type": "code",
      "source": [
        "b = {\"D\",\"A\",\"T\",\"A\",\"S\",\"C\",\"I\",\"E\",\"N\",\"C\",\"E\",\"T\",\"I\",\"S\",\"T\"}\n",
        "print(b)"
      ],
      "metadata": {
        "colab": {
          "base_uri": "https://localhost:8080/"
        },
        "id": "pS7_fDpsFstT",
        "outputId": "16186227-0c3d-47e5-8087-9350b75dd86c"
      },
      "execution_count": null,
      "outputs": [
        {
          "output_type": "stream",
          "name": "stdout",
          "text": [
            "{'A', 'S', 'N', 'C', 'I', 'D', 'T', 'E'}\n"
          ]
        }
      ]
    },
    {
      "cell_type": "code",
      "source": [
        "#Because it is unordered, we cannot retrieve some data/elements using the slicing process\n",
        "\n",
        "print(b[5])"
      ],
      "metadata": {
        "colab": {
          "base_uri": "https://localhost:8080/",
          "height": 200
        },
        "id": "BzvLBe1MHnZa",
        "outputId": "62f98c8a-37ff-4194-f73e-ba20ba3e36db"
      },
      "execution_count": null,
      "outputs": [
        {
          "output_type": "error",
          "ename": "TypeError",
          "evalue": "ignored",
          "traceback": [
            "\u001b[0;31m---------------------------------------------------------------------------\u001b[0m",
            "\u001b[0;31mTypeError\u001b[0m                                 Traceback (most recent call last)",
            "\u001b[0;32m<ipython-input-36-e47654fcc17c>\u001b[0m in \u001b[0;36m<module>\u001b[0;34m()\u001b[0m\n\u001b[1;32m      1\u001b[0m \u001b[0;31m#Because it is unordered, we cannot retrieve some data/elements using the slicing process\u001b[0m\u001b[0;34m\u001b[0m\u001b[0;34m\u001b[0m\u001b[0;34m\u001b[0m\u001b[0m\n\u001b[1;32m      2\u001b[0m \u001b[0;34m\u001b[0m\u001b[0m\n\u001b[0;32m----> 3\u001b[0;31m \u001b[0mprint\u001b[0m\u001b[0;34m(\u001b[0m\u001b[0mb\u001b[0m\u001b[0;34m[\u001b[0m\u001b[0;36m5\u001b[0m\u001b[0;34m]\u001b[0m\u001b[0;34m)\u001b[0m\u001b[0;34m\u001b[0m\u001b[0;34m\u001b[0m\u001b[0m\n\u001b[0m",
            "\u001b[0;31mTypeError\u001b[0m: 'set' object is not subscriptable"
          ]
        }
      ]
    },
    {
      "cell_type": "markdown",
      "source": [
        "# **4. Dictionary**\n",
        "\n",
        "A dictionary in python is an unordered collection of key-value pairs. Dictionary can be used to store small to large data. To access the data, we must know the key. In python, dictionaries are defined with curly braces."
      ],
      "metadata": {
        "id": "ALPKSTwpBa02"
      }
    },
    {
      "cell_type": "code",
      "source": [
        "#Each key-value pair element is separated by a comma(,)\n",
        "#The key and value are separated by a colon (:)\n",
        "dictionary = {\"group\":\"sintaks\",\"class\":\"data science B\",\"mentor\":\"suwarti\"}"
      ],
      "metadata": {
        "id": "MtqPfDwIB29y"
      },
      "execution_count": 1,
      "outputs": []
    },
    {
      "cell_type": "code",
      "source": [
        "#in the dictionary we can only call the key\n",
        "dictionary[\"group\"]"
      ],
      "metadata": {
        "colab": {
          "base_uri": "https://localhost:8080/",
          "height": 35
        },
        "id": "xO0phsm9B2xS",
        "outputId": "24af5e1d-184c-4d98-b412-e3a1797891e3"
      },
      "execution_count": 2,
      "outputs": [
        {
          "output_type": "execute_result",
          "data": {
            "text/plain": [
              "'sintaks'"
            ],
            "application/vnd.google.colaboratory.intrinsic+json": {
              "type": "string"
            }
          },
          "metadata": {},
          "execution_count": 2
        }
      ]
    },
    {
      "cell_type": "code",
      "source": [
        "#if calling the value the result will be an error\n",
        "dictionary[\"sintaks\"]"
      ],
      "metadata": {
        "colab": {
          "base_uri": "https://localhost:8080/",
          "height": 185
        },
        "id": "j7mClilKB2pS",
        "outputId": "3a088845-138a-404e-9d10-90f158816760"
      },
      "execution_count": 3,
      "outputs": [
        {
          "output_type": "error",
          "ename": "KeyError",
          "evalue": "ignored",
          "traceback": [
            "\u001b[0;31m---------------------------------------------------------------------------\u001b[0m",
            "\u001b[0;31mKeyError\u001b[0m                                  Traceback (most recent call last)",
            "\u001b[0;32m<ipython-input-3-c1799819588e>\u001b[0m in \u001b[0;36m<module>\u001b[0;34m()\u001b[0m\n\u001b[1;32m      1\u001b[0m \u001b[0;31m#if calling the value the result will be an error\u001b[0m\u001b[0;34m\u001b[0m\u001b[0;34m\u001b[0m\u001b[0;34m\u001b[0m\u001b[0m\n\u001b[0;32m----> 2\u001b[0;31m \u001b[0mdictionary\u001b[0m\u001b[0;34m[\u001b[0m\u001b[0;34m\"sintaks\"\u001b[0m\u001b[0;34m]\u001b[0m\u001b[0;34m\u001b[0m\u001b[0;34m\u001b[0m\u001b[0m\n\u001b[0m",
            "\u001b[0;31mKeyError\u001b[0m: 'sintaks'"
          ]
        }
      ]
    }
  ]
}